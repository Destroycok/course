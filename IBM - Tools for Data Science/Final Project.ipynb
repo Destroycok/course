{
 "cells": [
  {
   "cell_type": "markdown",
   "id": "5427dbd7",
   "metadata": {},
   "source": [
    "<center>\n",
    "    <img src=\"https://s3-api.us-geo.objectstorage.softlayer.net/cf-courses-data/CognitiveClass/Logos/organization_logo/organization_logo.png\" \n",
    "    width=\"300\" alt=\"cognitiveclass.ai logo\"  />\n",
    "</center>"
   ]
  },
  {
   "cell_type": "markdown",
   "id": "64b44ed8",
   "metadata": {},
   "source": [
    "<h1> Peer-graded Assignment </h1>\n",
    "<h2>Description</h2>"
   ]
  },
  {
   "cell_type": "markdown",
   "id": "2d3bf25d",
   "metadata": {},
   "source": [
    "This course introduced you to multiple data science tools, and in this final project, you will use Jupyterlite Notebook, one of the easiest tools to share publicly. \n",
    "\n",
    "Leveraging Jupyterlite Notebook on Skills Network labs, you will create your Jupyterlite Notebook (in English) and share it via a public GitHub link."
   ]
  },
  {
   "cell_type": "markdown",
   "id": "c7afe35a",
   "metadata": {},
   "source": [
    "<div class=\"alert alert-block alert-info\" style=\"margin-top: 20px\">\n",
    "    <h3>Here are a total of 25 points possible for this final project.</h3>\n",
    "    <h4>Your grade will be based on the following Exercises:</h4>\n",
    "<p>\n",
    "        <ul>\n",
    "        v\n",
    "        <li>Exercise 3 - Create a markdown cell for an introduction. (1 pt)</li>\n",
    "        <li>Exercise 4 - Create a markdown cell to list data science languages. (3 pts)</li>\n",
    "        <li>Exercise 5 - Create a markdown cell to list data science libraries. (3 pts)</li>\n",
    "        <li>Exercise 6 - Create a markdown cell with a table of Data Science tools. (3 pts)</li>\n",
    "        <li>Exercise 7 - Create a markdown cell introducing arithmetic expression examples. (1 pt)</li>\n",
    "        <li>Exercise 8 - Create a code cell to multiply and add numbers. (2 pts)</li>\n",
    "        <li>Exercise 9 - Create a code cell to convert minutes to hours. (2 pts)</li>\n",
    "        <li>Exercise 10 -Insert a markdown cell to list Objectives. (3 pts)</li>\n",
    "        <li>Exercise 11 - Create a markdown cell to indicate the Author’s name. (2 pts)</li>\n",
    "        <li>Exercise 12 - Share your notebook through GitHub (3 pts)</li>\n",
    "        <li>Exercise 13 - Take a screenshot of the first page of the notebook. (1 pt)</li>\n",
    "    </ul>\n",
    "</div>"
   ]
  },
  {
   "cell_type": "markdown",
   "id": "97efe0aa",
   "metadata": {},
   "source": [
    "<div class=\"alert alert-block alert-info\" style=\"margin-top: 20px\">\n",
    "    <h3>Exercise 4 - Create a markdown cell to list data science languages. (3 pts)</h3>\n",
    "<p>\n",
    "        <ul>\n",
    "        <li>Python</li>\n",
    "        <li>R</li>\n",
    "        <li>SQL</li>\n",
    "        <li>Java</li>\n",
    "        <li>Julia)</li>\n",
    "        <li>Scala</li>\n",
    "        <li>C/C++</li>\n",
    "        <li>JavaScript</li>\n",
    "    </ul>\n",
    "</div>"
   ]
  },
  {
   "cell_type": "markdown",
   "id": "cebcc89c",
   "metadata": {},
   "source": [
    "<div class=\"alert alert-block alert-info\" style=\"margin-top: 20px\">\n",
    "    <h3>Exercise 5 - Create a markdown cell to list data science libraries. (3 pts)</h3>\n",
    "<p>\n",
    "        <ul>\n",
    "        <li>TensorFlow.</li>\n",
    "        <li>NumPy.</li>\n",
    "        <li>SciPy.</li>\n",
    "        <li>BeautifulSoup. </li>\n",
    "        <li>LightGBM. </li>\n",
    "        <li>ELI5. </li>\n",
    "        <li>Theano. </li>\n",
    "        <li>Pandas.</li>\n",
    "        <li>Matplotlib.</li>\n",
    "        <li>Keras.</li>\n",
    "        <li>SciKit-Learn.</li>\n",
    "        <li>PyTorch.</li>\n",
    "        <li>Scrapy.</li>\n",
    "        <li>NuPIC. </li>\n",
    "        <li>Ramp. </li>\n",
    "        <li>Pipenv. </li>\n",
    "        <li>PyBrain. </li>\n",
    "        <li>Chainer. </li>\n",
    "    </ul>\n",
    "</div>"
   ]
  },
  {
   "cell_type": "markdown",
   "id": "58bd7069",
   "metadata": {},
   "source": [
    "<div class=\"alert alert-block alert-info\" style=\"margin-top: 20px\">\n",
    "    <h3>Exercise 6 - Create a markdown cell with a table of Data Science tools. (3 pts)</h3>\n",
    "        <p>\n",
    "        <h4>Data Science Tools\t</h4>\n",
    "        <p>SAS\t\n",
    "        <p>Apache Spark\t\t\n",
    "        <p>BigML</h4>\n",
    "</div>"
   ]
  },
  {
   "cell_type": "markdown",
   "id": "966f2ddc",
   "metadata": {},
   "source": [
    "<div class=\"alert alert-block alert-info\" style=\"margin-top: 20px\">\n",
    "    <h3>Exercise 7 - Create a markdown cell introducing arithmetic expression examples. (1 pt)</h3>\n",
    "</div>-"
   ]
  },
  {
   "cell_type": "code",
   "execution_count": 6,
   "id": "dcda3596",
   "metadata": {},
   "outputs": [
    {
     "data": {
      "text/plain": [
       "14"
      ]
     },
     "execution_count": 6,
     "metadata": {},
     "output_type": "execute_result"
    }
   ],
   "source": [
    "m = compile(\"10 + 4\", \"<string>\", \"eval\")\n",
    "eval(m)"
   ]
  },
  {
   "cell_type": "code",
   "execution_count": 7,
   "id": "040e388e",
   "metadata": {},
   "outputs": [
    {
     "data": {
      "text/plain": [
       "36"
      ]
     },
     "execution_count": 7,
     "metadata": {},
     "output_type": "execute_result"
    }
   ],
   "source": [
    "m1 = compile(\"(8 - 2) * 6\", \"<string>\", \"eval\")\n",
    "eval(m1)"
   ]
  },
  {
   "cell_type": "code",
   "execution_count": 8,
   "id": "58824652",
   "metadata": {},
   "outputs": [
    {
     "data": {
      "text/plain": [
       "130899.6938995747"
      ]
     },
     "execution_count": 8,
     "metadata": {},
     "output_type": "execute_result"
    }
   ],
   "source": [
    "import math\n",
    "\n",
    "m2 = compile(\"8 / 3 * math.pi * math.pow(25, 3)\", \"<string>\", \"eval\")\n",
    "eval(m2)"
   ]
  },
  {
   "cell_type": "markdown",
   "id": "54923e88",
   "metadata": {},
   "source": [
    "<div class=\"alert alert-block alert-info\" style=\"margin-top: 20px\">\n",
    "    <h3>Exercise 8 - Create a code cell to multiply and add numbers. (2 pts)</h3>\n",
    "</div>"
   ]
  },
  {
   "cell_type": "code",
   "execution_count": 9,
   "id": "67b7bdb8",
   "metadata": {},
   "outputs": [
    {
     "data": {
      "text/plain": [
       "42.0"
      ]
     },
     "execution_count": 9,
     "metadata": {},
     "output_type": "execute_result"
    }
   ],
   "source": [
    "(8+4)*7/2"
   ]
  },
  {
   "cell_type": "markdown",
   "id": "80a60a64",
   "metadata": {},
   "source": [
    "<div class=\"alert alert-block alert-info\" style=\"margin-top: 20px\">\n",
    "    <h3>Exercise 9 - Create a code cell to convert minutes to hours. (2 pts)</h3>\n",
    "</div>"
   ]
  },
  {
   "cell_type": "code",
   "execution_count": 11,
   "id": "120ca374",
   "metadata": {},
   "outputs": [
    {
     "name": "stdout",
     "output_type": "stream",
     "text": [
      "0 days, 3.3333333333333335 hours, 0 mins. \n"
     ]
    }
   ],
   "source": [
    "days = 0\n",
    "hours = 0\n",
    "mins = 0\n",
    "\n",
    "time = 200\n",
    "#days = time / 1440\n",
    "leftover_minutes = time % 1440\n",
    "hours = leftover_minutes / 60\n",
    "#mins = time - (days*1440) - (hours*60)\n",
    "print(str(days) + \" days, \" + str(hours) + \" hours, \" + str(mins) +  \" mins. \")"
   ]
  },
  {
   "cell_type": "markdown",
   "id": "da5f5e28",
   "metadata": {},
   "source": [
    "<div class=\"alert alert-block alert-info\" style=\"margin-top: 20px\">\n",
    "    <h3>Exercise 10 -Insert a markdown cell to list Objectives. (3 pts)</h3>\n",
    "</div>"
   ]
  },
  {
   "cell_type": "markdown",
   "id": "a379d4d9",
   "metadata": {},
   "source": [
    "Assignment Topic:\n",
    "\n",
    "You will be provided with an empty Jupyterlite notebook which you will launch in the course, to complete this assignment. You will need to include a combination of markdown and code cells. You will likely need to use the Markdown cheat sheet to help you determine the appropriate syntax for your markdown.  \n",
    "\n"
   ]
  },
  {
   "cell_type": "markdown",
   "id": "73d8f28c",
   "metadata": {},
   "source": [
    "<div class=\"alert alert-block alert-info\" style=\"margin-top: 20px\">\n",
    "    <h3>Exercise 11 - Create a markdown cell to indicate the Author’s name. (2 pts)</h3>\n",
    "</div>"
   ]
  },
  {
   "cell_type": "markdown",
   "id": "be7484a2",
   "metadata": {},
   "source": [
    "<h2>Author:</h2>\n",
    "<h4>Germano Costa</h4>"
   ]
  },
  {
   "cell_type": "code",
   "execution_count": null,
   "id": "cc12fc65",
   "metadata": {},
   "outputs": [],
   "source": []
  }
 ],
 "metadata": {
  "kernelspec": {
   "display_name": "Python 3 (ipykernel)",
   "language": "python",
   "name": "python3"
  },
  "language_info": {
   "codemirror_mode": {
    "name": "ipython",
    "version": 3
   },
   "file_extension": ".py",
   "mimetype": "text/x-python",
   "name": "python",
   "nbconvert_exporter": "python",
   "pygments_lexer": "ipython3",
   "version": "3.10.9"
  }
 },
 "nbformat": 4,
 "nbformat_minor": 5
}
